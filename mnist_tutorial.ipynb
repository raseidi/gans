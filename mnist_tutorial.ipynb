{
 "cells": [
  {
   "cell_type": "code",
   "execution_count": 1,
   "metadata": {},
   "outputs": [
    {
     "data": {
      "text/plain": [
       "device(type='cuda')"
      ]
     },
     "execution_count": 1,
     "metadata": {},
     "output_type": "execute_result"
    }
   ],
   "source": [
    "import torch\n",
    "from torch import nn\n",
    "\n",
    "import math\n",
    "import matplotlib.pyplot as plt\n",
    "import torchvision\n",
    "import torchvision.transforms as transforms\n",
    "\n",
    "torch.manual_seed(111)\n",
    "device = \"\"\n",
    "if torch.cuda.is_available():\n",
    "    device = torch.device(\"cuda\")\n",
    "else:\n",
    "    device = torch.device(\"cpu\")\n",
    "device"
   ]
  },
  {
   "cell_type": "markdown",
   "metadata": {},
   "source": [
    "- transforms.ToTensor() converts the data to a PyTorch tensor.\n",
    "- transforms.Normalize() converts the range of the \n",
    "tensor coefficients.\n",
    "\n",
    "The arguments of transforms.Normalize() are two tuples, (M₁, ..., Mₙ) and (S₁, ..., Sₙ), with n representing the number of channels of the images. Grayscale images such as those in MNIST dataset have only one channel, so the tuples have only one value. Then, for each channel i of the image, transforms.Normalize() subtracts Mᵢ from the coefficients and divides the result by Sᵢ."
   ]
  },
  {
   "cell_type": "code",
   "execution_count": 2,
   "metadata": {},
   "outputs": [],
   "source": [
    "transform = transforms.Compose([\n",
    "    transforms.ToTensor(), \n",
    "    transforms.Normalize((0.5,), (0.5,))\n",
    "])\n",
    "train_set = torchvision.datasets.MNIST(\n",
    "    root=\".\", train=True, download=True, transform=transform\n",
    ")"
   ]
  },
  {
   "cell_type": "code",
   "execution_count": 3,
   "metadata": {},
   "outputs": [
    {
     "data": {
      "text/plain": [
       "Dataset MNIST\n",
       "    Number of datapoints: 60000\n",
       "    Root location: .\n",
       "    Split: Train\n",
       "    StandardTransform\n",
       "Transform: Compose(\n",
       "               ToTensor()\n",
       "               Normalize(mean=(0.5,), std=(0.5,))\n",
       "           )"
      ]
     },
     "execution_count": 3,
     "metadata": {},
     "output_type": "execute_result"
    }
   ],
   "source": [
    "train_set"
   ]
  },
  {
   "cell_type": "code",
   "execution_count": 4,
   "metadata": {},
   "outputs": [
    {
     "data": {
      "text/plain": [
       "<torch.utils.data.dataloader.DataLoader at 0x7fa2076ef520>"
      ]
     },
     "execution_count": 4,
     "metadata": {},
     "output_type": "execute_result"
    }
   ],
   "source": [
    "batch_size = 32\n",
    "train_loader = torch.utils.data.DataLoader(\n",
    "    train_set, batch_size=batch_size, shuffle=True\n",
    ")\n",
    "train_loader"
   ]
  },
  {
   "cell_type": "code",
   "execution_count": 5,
   "metadata": {},
   "outputs": [
    {
     "data": {
      "image/png": "[encoded data removed]",
      "text/plain": [
       "<Figure size 432x288 with 16 Axes>"
      ]
     },
     "metadata": {},
     "output_type": "display_data"
    }
   ],
   "source": [
    "real_samples, mnist_labels = next(iter(train_loader))\n",
    "for i in range(16):\n",
    "    ax = plt.subplot(4, 4, i + 1)\n",
    "    plt.imshow(real_samples[i].reshape(28, 28), cmap=\"gray_r\")\n",
    "    plt.xticks([])\n",
    "    plt.yticks([])"
   ]
  },
  {
   "cell_type": "markdown",
   "metadata": {},
   "source": [
    "# Original GAN"
   ]
  },
  {
   "cell_type": "code",
   "execution_count": 6,
   "metadata": {},
   "outputs": [],
   "source": [
    "class Discriminator(nn.Module):\n",
    "    def __init__(self):\n",
    "        super().__init__()\n",
    "        self.model = nn.Sequential(\n",
    "            nn.Linear(784, 1024),\n",
    "            nn.ReLU(),\n",
    "            nn.Dropout(0.3),\n",
    "            \n",
    "            nn.Linear(1024, 512),\n",
    "            nn.ReLU(),\n",
    "            nn.Dropout(0.3),\n",
    "            \n",
    "            nn.Linear(512, 256),\n",
    "            nn.ReLU(),\n",
    "            nn.Dropout(0.3),\n",
    "            \n",
    "            nn.Linear(256, 1),\n",
    "            nn.Sigmoid(),\n",
    "        )\n",
    "\n",
    "    def forward(self, x):\n",
    "        x = x.view(x.size(0), 784)\n",
    "        output = self.model(x)\n",
    "        return output\n",
    "\n",
    "class Generator(nn.Module):\n",
    "    def __init__(self):\n",
    "        super().__init__()\n",
    "        self.model = nn.Sequential(\n",
    "            nn.Linear(100, 256), # the random/noise input is greater this time\n",
    "            nn.ReLU(),\n",
    "            \n",
    "            nn.Linear(256, 512),\n",
    "            nn.ReLU(),\n",
    "            \n",
    "            nn.Linear(512, 1024),\n",
    "            nn.ReLU(),\n",
    "            \n",
    "            # Tanh() as the activation of the output layer since the output \n",
    "            # coefficients should be in the interval from -1 to 1\n",
    "            nn.Linear(1024, 784),\n",
    "            nn.Tanh(), \n",
    "        )\n",
    "\n",
    "    def forward(self, x):\n",
    "        output = self.model(x)\n",
    "        output = output.view(x.size(0), 1, 28, 28)\n",
    "        return output"
   ]
  },
  {
   "cell_type": "code",
   "execution_count": 17,
   "metadata": {},
   "outputs": [],
   "source": [
    "discriminator = Discriminator().to(device=device)\n",
    "generator = Generator().to(device=device)\n",
    "\n",
    "lr = 0.0001\n",
    "num_epochs = 50\n",
    "loss_function = nn.BCELoss()\n",
    "\n",
    "optimizer_discriminator = torch.optim.Adam(discriminator.parameters(), lr=lr)\n",
    "optimizer_generator = torch.optim.Adam(generator.parameters(), lr=lr)"
   ]
  },
  {
   "cell_type": "code",
   "execution_count": 27,
   "metadata": {},
   "outputs": [
    {
     "name": "stdout",
     "output_type": "stream",
     "text": [
      "Epoch: 0\t Loss D.: 0.6598582863807678 Loss G.: 1.1470974683761597\n",
      "Epoch: 1\t Loss D.: 0.5229203104972839 Loss G.: 1.0307083129882812\n",
      "Epoch: 2\t Loss D.: 0.6357079744338989 Loss G.: 0.9276307821273804\n",
      "Epoch: 3\t Loss D.: 0.5266848206520081 Loss G.: 1.0305275917053223\n",
      "Epoch: 4\t Loss D.: 0.5716484785079956 Loss G.: 1.1826832294464111\n",
      "Epoch: 5\t Loss D.: 0.668267548084259 Loss G.: 0.9095688462257385\n",
      "Epoch: 6\t Loss D.: 0.5434049367904663 Loss G.: 1.0334296226501465\n",
      "Epoch: 7\t Loss D.: 0.61187744140625 Loss G.: 0.8850452899932861\n",
      "Epoch: 8\t Loss D.: 0.5730170607566833 Loss G.: 1.0410983562469482\n",
      "Epoch: 9\t Loss D.: 0.6799784898757935 Loss G.: 1.0090618133544922\n",
      "Epoch: 10\t Loss D.: 0.6254280805587769 Loss G.: 0.961704432964325\n",
      "Epoch: 11\t Loss D.: 0.6694013476371765 Loss G.: 1.1174839735031128\n",
      "Epoch: 12\t Loss D.: 0.57073575258255 Loss G.: 1.1112734079360962\n",
      "Epoch: 13\t Loss D.: 0.5693306922912598 Loss G.: 0.9133699536323547\n",
      "Epoch: 14\t Loss D.: 0.5566889047622681 Loss G.: 0.9338333606719971\n",
      "Epoch: 15\t Loss D.: 0.6277629733085632 Loss G.: 1.1336801052093506\n",
      "Epoch: 16\t Loss D.: 0.6151833534240723 Loss G.: 1.0828417539596558\n",
      "Epoch: 17\t Loss D.: 0.6138845086097717 Loss G.: 0.7609084248542786\n",
      "Epoch: 18\t Loss D.: 0.5246164798736572 Loss G.: 0.8093428015708923\n",
      "Epoch: 19\t Loss D.: 0.6784814596176147 Loss G.: 0.9993737936019897\n",
      "Epoch: 20\t Loss D.: 0.5919786691665649 Loss G.: 1.0692964792251587\n",
      "Epoch: 21\t Loss D.: 0.6395159959793091 Loss G.: 1.0416982173919678\n",
      "Epoch: 22\t Loss D.: 0.5933458805084229 Loss G.: 0.9121285676956177\n",
      "Epoch: 23\t Loss D.: 0.690640926361084 Loss G.: 0.9370423555374146\n",
      "Epoch: 24\t Loss D.: 0.6640541553497314 Loss G.: 0.8941184282302856\n",
      "Epoch: 25\t Loss D.: 0.7187070846557617 Loss G.: 0.8813784122467041\n",
      "Epoch: 26\t Loss D.: 0.5692926049232483 Loss G.: 0.9785516858100891\n",
      "Epoch: 27\t Loss D.: 0.5275828838348389 Loss G.: 1.1273822784423828\n",
      "Epoch: 28\t Loss D.: 0.5391577482223511 Loss G.: 1.1464650630950928\n",
      "Epoch: 29\t Loss D.: 0.6194361448287964 Loss G.: 0.909956693649292\n",
      "Epoch: 30\t Loss D.: 0.615452766418457 Loss G.: 1.0329769849777222\n",
      "Epoch: 31\t Loss D.: 0.6114522218704224 Loss G.: 0.9312687516212463\n",
      "Epoch: 32\t Loss D.: 0.5178375840187073 Loss G.: 0.9588082432746887\n",
      "Epoch: 33\t Loss D.: 0.6378310322761536 Loss G.: 1.0392708778381348\n",
      "Epoch: 34\t Loss D.: 0.5452490448951721 Loss G.: 1.1134394407272339\n",
      "Epoch: 35\t Loss D.: 0.5904240608215332 Loss G.: 1.1045241355895996\n",
      "Epoch: 36\t Loss D.: 0.6120075583457947 Loss G.: 0.852904200553894\n",
      "Epoch: 37\t Loss D.: 0.571753740310669 Loss G.: 1.026881217956543\n",
      "Epoch: 38\t Loss D.: 0.5749319791793823 Loss G.: 0.8899673223495483\n",
      "Epoch: 39\t Loss D.: 0.6570715308189392 Loss G.: 1.0240085124969482\n",
      "Epoch: 40\t Loss D.: 0.506294846534729 Loss G.: 0.8997887372970581\n",
      "Epoch: 41\t Loss D.: 0.500040590763092 Loss G.: 0.8727316856384277\n",
      "Epoch: 42\t Loss D.: 0.5838446617126465 Loss G.: 0.9927545785903931\n",
      "Epoch: 43\t Loss D.: 0.5705946683883667 Loss G.: 0.9587234258651733\n",
      "Epoch: 44\t Loss D.: 0.6602784395217896 Loss G.: 0.9668029546737671\n",
      "Epoch: 45\t Loss D.: 0.6290265321731567 Loss G.: 1.0552914142608643\n",
      "Epoch: 46\t Loss D.: 0.4985402226448059 Loss G.: 0.94960618019104\n",
      "Epoch: 47\t Loss D.: 0.5541197657585144 Loss G.: 0.9962956309318542\n",
      "Epoch: 48\t Loss D.: 0.5685231685638428 Loss G.: 1.0212160348892212\n",
      "Epoch: 49\t Loss D.: 0.5834237337112427 Loss G.: 1.0952287912368774\n"
     ]
    }
   ],
   "source": [
    "import numpy as np\n",
    "gan_probs = []\n",
    "gan_loss = []\n",
    "for epoch in range(num_epochs):\n",
    "    for n, (real_samples, mnist_labels) in enumerate(train_loader):\n",
    "        # Data for training the discriminator\n",
    "        real_samples = real_samples.to(device=device)\n",
    "        real_samples_labels = torch.ones((batch_size, 1)).to(\n",
    "            device=device\n",
    "        )\n",
    "        latent_space_samples = torch.randn((batch_size, 100)).to(\n",
    "            device=device\n",
    "        )\n",
    "        generated_samples = generator(latent_space_samples)\n",
    "        generated_samples_labels = torch.zeros((batch_size, 1)).to(\n",
    "            device=device\n",
    "        )\n",
    "        all_samples = torch.cat((real_samples, generated_samples))\n",
    "        all_samples_labels = torch.cat(\n",
    "            (real_samples_labels, generated_samples_labels)\n",
    "        )\n",
    "\n",
    "        # Training the discriminator\n",
    "        discriminator.zero_grad()\n",
    "        output_discriminator = discriminator(all_samples)\n",
    "        loss_discriminator = loss_function(\n",
    "            output_discriminator, all_samples_labels\n",
    "        )\n",
    "        loss_discriminator.backward()\n",
    "        optimizer_discriminator.step()\n",
    "\n",
    "        # Data for training the generator\n",
    "        latent_space_samples = torch.randn((batch_size, 100)).to(\n",
    "            device=device\n",
    "        )\n",
    "\n",
    "        # Training the generator\n",
    "        generator.zero_grad()\n",
    "        generated_samples = generator(latent_space_samples)\n",
    "        output_discriminator_generated = discriminator(generated_samples)\n",
    "        loss_generator = loss_function(\n",
    "            output_discriminator_generated, real_samples_labels\n",
    "        )\n",
    "        loss_generator.backward()\n",
    "        optimizer_generator.step()\n",
    "\n",
    "        # Show loss\n",
    "        if n == batch_size - 1:\n",
    "            print(f\"Epoch: {epoch}\\t Loss D.: {loss_discriminator} Loss G.: {loss_generator}\")\n",
    "            probs = output_discriminator_generated.cpu().detach()\n",
    "            l = np.log(1 - probs).mean()\n",
    "            gan_probs.append(probs.mean())\n",
    "            gan_loss.append(l)"
   ]
  },
  {
   "cell_type": "code",
   "execution_count": 28,
   "metadata": {},
   "outputs": [],
   "source": [
    "latent_space_samples = torch.randn(batch_size, 100).to(device=device)\n",
    "generated_samples = generator(latent_space_samples)"
   ]
  },
  {
   "cell_type": "code",
   "execution_count": 30,
   "metadata": {},
   "outputs": [
    {
     "data": {
      "image/png": "[encoded data removed]",
      "text/plain": [
       "<Figure size 432x288 with 16 Axes>"
      ]
     },
     "metadata": {},
     "output_type": "display_data"
    }
   ],
   "source": [
    "generated_samples = generated_samples.cpu().detach()\n",
    "for i in range(16):\n",
    "    ax = plt.subplot(4, 4, i + 1)\n",
    "    plt.imshow(generated_samples[i].reshape(28, 28), cmap=\"gray_r\")\n",
    "    plt.xticks([])\n",
    "    plt.yticks([])"
   ]
  },
  {
   "cell_type": "markdown",
   "metadata": {},
   "source": [
    "# Condiitional GAN  "
   ]
  },
  {
   "cell_type": "code",
   "execution_count": null,
   "metadata": {},
   "outputs": [],
   "source": [
    "class CDiscriminator(nn.Module):\n",
    "    def __init__(self):\n",
    "        super().__init__()\n",
    "        \n",
    "        self.label_emb = nn.Embedding(10, 10)\n",
    "        \n",
    "        self.model = nn.Sequential(\n",
    "            nn.Linear(794, 1024),\n",
    "            nn.LeakyReLU(0.2, inplace=True),\n",
    "            nn.Dropout(0.3),\n",
    "            nn.Linear(1024, 512),\n",
    "            nn.LeakyReLU(0.2, inplace=True),\n",
    "            nn.Dropout(0.3),\n",
    "            nn.Linear(512, 256),\n",
    "            nn.LeakyReLU(0.2, inplace=True),\n",
    "            nn.Dropout(0.3),\n",
    "            nn.Linear(256, 1),\n",
    "            nn.Sigmoid()\n",
    "        )\n",
    "    \n",
    "    def forward(self, x, labels):\n",
    "        x = x.view(x.size(0), 784)\n",
    "        c = self.label_emb(labels)\n",
    "        x = torch.cat([x, c], 1)\n",
    "        out = self.model(x)\n",
    "        return out #.squeeze()\n",
    "\n",
    "class CGenerator(nn.Module):\n",
    "    def __init__(self):\n",
    "        super().__init__()\n",
    "        \n",
    "        self.label_emb = nn.Embedding(10, 10)\n",
    "        \n",
    "        self.model = nn.Sequential(\n",
    "            nn.Linear(110, 256),\n",
    "            nn.LeakyReLU(0.2, inplace=True),\n",
    "            nn.Linear(256, 512),\n",
    "            nn.LeakyReLU(0.2, inplace=True),\n",
    "            nn.Linear(512, 1024),\n",
    "            nn.LeakyReLU(0.2, inplace=True),\n",
    "            nn.Linear(1024, 784),\n",
    "            nn.Tanh()\n",
    "        )\n",
    "    \n",
    "    def forward(self, z, labels):\n",
    "        z = z.view(z.size(0), 100)\n",
    "        c = self.label_emb(labels)\n",
    "        x = torch.cat([z, c], 1)\n",
    "        out = self.model(x)\n",
    "        return out.view(x.size(0), 1, 28, 28)\n"
   ]
  },
  {
   "cell_type": "code",
   "execution_count": null,
   "metadata": {},
   "outputs": [],
   "source": [
    "\n",
    "discriminator = CDiscriminator().to(device=device)\n",
    "generator = CGenerator().to(device=device)\n",
    "\n",
    "lr = 1e-4\n",
    "num_epochs = 50\n",
    "loss_function = nn.BCELoss()\n",
    "\n",
    "optimizer_discriminator = torch.optim.Adam(discriminator.parameters(), lr=lr)\n",
    "optimizer_generator = torch.optim.Adam(generator.parameters(), lr=lr)\n",
    "\n",
    "import numpy as np\n",
    "g_epoch_loss = []\n",
    "d_epoch_loss = []\n",
    "\n",
    "# pode ficar fora porque len(dataset) % batch_size == 0\n",
    "real_labels = torch.ones((batch_size,1)).to(device=device)\n",
    "fake_labels = torch.zeros((batch_size, 1)).to(device=device)\n",
    "real_fake_labels = torch.cat((real_labels, fake_labels)).to(device=device)"
   ]
  },
  {
   "cell_type": "code",
   "execution_count": null,
   "metadata": {},
   "outputs": [],
   "source": [
    "for epoch in range(num_epochs):\n",
    "    D_loss_list, G_loss_list = [], []\n",
    "    for n, (mnist_images, mnist_labels) in enumerate(train_loader):\n",
    "        mnist_images = mnist_images.to(device=device)\n",
    "        mnist_labels = mnist_labels.to(device=device)\n",
    "\n",
    "        # training discriminator\n",
    "        optimizer_discriminator.zero_grad()\n",
    "        z = torch.randn((batch_size, 100)).to(device=device)\n",
    "        gen_labels = torch.randint(0, 10, (batch_size, 1)).reshape(-1).to(device=device)\n",
    "        gen_images = generator(z, gen_labels)\n",
    "\n",
    "        all_samples = torch.cat((mnist_images, gen_images))\n",
    "        all_labels = torch.cat((mnist_labels, gen_labels))\n",
    "\n",
    "        predicted_labels = discriminator(all_samples, all_labels) # classifying true/fake\n",
    "        d_loss = loss_function(predicted_labels, real_fake_labels)\n",
    "        d_loss.backward()\n",
    "        optimizer_discriminator.step()\n",
    "        D_loss_list.append(d_loss.item())\n",
    "\n",
    "        # training generator\n",
    "        optimizer_generator.zero_grad()\n",
    "        z = torch.randn((batch_size, 100)).to(device=device)\n",
    "        gen_labels = torch.randint(0, 10, (batch_size, 1)).reshape(-1).to(device=device)\n",
    "        gen_images = generator(z, gen_labels)\n",
    "\n",
    "        predicted_labels = discriminator(gen_images, gen_labels) \n",
    "        g_loss = loss_function(predicted_labels, real_labels) # trying to fool the discriminator\n",
    "        g_loss.backward()\n",
    "        optimizer_generator.step()\n",
    "        G_loss_list.append(g_loss.item())\n",
    "    print(f\"Epoch: {epoch}\\t Loss D.: {np.mean(D_loss_list)} Loss G.: {np.mean(G_loss_list)}\")\n",
    "    g_epoch_loss.append(np.mean(G_loss_list))\n",
    "    d_epoch_loss.append(np.mean(D_loss_list))\n",
    "    if np.mean(G_loss_list) < 0.1:\n",
    "        break"
   ]
  },
  {
   "cell_type": "code",
   "execution_count": null,
   "metadata": {},
   "outputs": [],
   "source": [
    "z = torch.randn(100, 100).cuda()\n",
    "labels = torch.LongTensor([i for i in range(10) for _ in range(10)]).cuda()\n",
    "images = generator(z, labels).cpu().detach()\n",
    "for i in range(100):\n",
    "    ax = plt.subplot(10, 10, i + 1)\n",
    "    plt.imshow(images[i].reshape(28, 28), cmap=\"gray_r\")\n",
    "    plt.xticks([])\n",
    "    plt.yticks([])\n",
    "plt.show()"
   ]
  }
 ],
 "metadata": {
  "interpreter": {
   "hash": "31f2aee4e71d21fbe5cf8b01ff0e069b9275f58929596ceb00d14d90e3e16cd6"
  },
  "kernelspec": {
   "display_name": "Python 3.8.10 64-bit",
   "language": "python",
   "name": "python3"
  },
  "language_info": {
   "codemirror_mode": {
    "name": "ipython",
    "version": 3
   },
   "file_extension": ".py",
   "mimetype": "text/x-python",
   "name": "python",
   "nbconvert_exporter": "python",
   "pygments_lexer": "ipython3",
   "version": "3.8.10"
  },
  "orig_nbformat": 4
 },
 "nbformat": 4,
 "nbformat_minor": 2
}
